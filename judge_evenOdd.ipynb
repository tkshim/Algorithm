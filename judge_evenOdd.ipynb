{
 "cells": [
  {
   "cell_type": "code",
   "execution_count": 1,
   "metadata": {
    "collapsed": false
   },
   "outputs": [
    {
     "name": "stdout",
     "output_type": "stream",
     "text": [
      "382253568 723152896 37802240 379425024 404894720 471526144\n",
      "8\n"
     ]
    }
   ],
   "source": [
    "# Input the value from users\n",
    "listNum = raw_input().split()\n",
    "\n",
    "#Global Variable\n",
    "LIST_LENGTH  =  len(listNum)\n",
    "FLAG = 0\n",
    "COUNTER = 0\n",
    "MAXN = 200\n",
    "\n",
    "while len(listNum)<= MAXN:\n",
    "    #\n",
    "    # STEP1. Check wheter value can be devided by 2\n",
    "    # \n",
    "    index = 0\n",
    "    while (index < len(listNum)):\n",
    "        # Read value form List\n",
    "        i = int(listNum[index])\n",
    "        x = i % 2 \n",
    "        \n",
    "        #\n",
    "        # when value is more than 10**9, exit form program\n",
    "        #\n",
    "        \n",
    "        if i > 10**9:\n",
    "            FLAG = 1\n",
    "            break\n",
    "            \n",
    "        # when value is devided by 2, change value and\n",
    "        # increase index value by 1\n",
    "        if x == 0:\n",
    "            #print i\n",
    "            listNum[index] = i / 2\n",
    "            #print listNum[index]\n",
    "            index += 1\n",
    "        # when value isn't devided by 2, set 1 to FLAG and \n",
    "        # exit from judgement program\"\n",
    "        else:\n",
    "            #print \"value is : \", i, \"exit from judgement program\"\n",
    "            FLAG = 1\n",
    "            break\n",
    "            \n",
    "    #\n",
    "    # STEP2. Check how many times\n",
    "    # \n",
    "    #print \"COUNTER is : \", COUNTER\n",
    "    COUNTER += 1\n",
    "    \n",
    "    # \n",
    "    # STEP3. Exit from entire loop when FLAG become 1\n",
    "    # \n",
    "    if FLAG == 1:\n",
    "        #print \"exit from loop\"\n",
    "        print COUNTER-1\n",
    "        break\n",
    "    \n",
    "if LIST_LENGTH > MAXN:\n",
    "    #print \"Value Number Error.\", \" Count is : \", 0\n",
    "    print 0"
   ]
  },
  {
   "cell_type": "code",
   "execution_count": null,
   "metadata": {
    "collapsed": true
   },
   "outputs": [],
   "source": []
  }
 ],
 "metadata": {
  "anaconda-cloud": {},
  "kernelspec": {
   "display_name": "Python [py27env]",
   "language": "python",
   "name": "Python [py27env]"
  },
  "language_info": {
   "codemirror_mode": {
    "name": "ipython",
    "version": 2
   },
   "file_extension": ".py",
   "mimetype": "text/x-python",
   "name": "python",
   "nbconvert_exporter": "python",
   "pygments_lexer": "ipython2",
   "version": "2.7.13"
  }
 },
 "nbformat": 4,
 "nbformat_minor": 0
}
