{
 "cells": [
  {
   "cell_type": "code",
   "execution_count": 5,
   "metadata": {
    "collapsed": false
   },
   "outputs": [
    {
     "data": {
      "text/plain": [
       "'\\nBasic Structure\\nlambda argument:function(argument)(list)\\n\\n'"
      ]
     },
     "execution_count": 5,
     "metadata": {},
     "output_type": "execute_result"
    }
   ],
   "source": [
    "'''\n",
    "Basic Structure\n",
    "lambda argument:function(argument)(list)\n",
    "\n",
    "'''"
   ]
  },
  {
   "cell_type": "markdown",
   "metadata": {},
   "source": [
    "# Define the Function "
   ]
  },
  {
   "cell_type": "code",
   "execution_count": 2,
   "metadata": {
    "collapsed": true
   },
   "outputs": [],
   "source": [
    "def judge(x):\n",
    "    X = int(x)\n",
    "    Y = X % 2\n",
    "    if Y == 0:\n",
    "        return \"T\"\n",
    "    else:\n",
    "        return \"F\""
   ]
  },
  {
   "cell_type": "markdown",
   "metadata": {},
   "source": [
    "# Input & Execution"
   ]
  },
  {
   "cell_type": "code",
   "execution_count": 3,
   "metadata": {
    "collapsed": false
   },
   "outputs": [
    {
     "name": "stdout",
     "output_type": "stream",
     "text": [
      "100 200 101212\n",
      "List is Even.\n"
     ]
    }
   ],
   "source": [
    "# Input \n",
    "list_number = raw_input().split()\n",
    "\n",
    "# judge and making list\n",
    "list_result = map(lambda x:judge(x), list_number)\n",
    "\n",
    "# check entire list whether Even or Odd\n",
    "for i in list_result:\n",
    "    if i == 'F':\n",
    "        FLAG = 1\n",
    "        break\n",
    "    else:\n",
    "        FLAG = 0\n",
    "\n",
    "if FLAG == 0:\n",
    "    print \"List is Even.\"\n",
    "else:\n",
    "    print \"List is Odd\""
   ]
  }
 ],
 "metadata": {
  "kernelspec": {
   "display_name": "Python [py27env]",
   "language": "python",
   "name": "Python [py27env]"
  },
  "language_info": {
   "codemirror_mode": {
    "name": "ipython",
    "version": 2
   },
   "file_extension": ".py",
   "mimetype": "text/x-python",
   "name": "python",
   "nbconvert_exporter": "python",
   "pygments_lexer": "ipython2",
   "version": "2.7.13"
  }
 },
 "nbformat": 4,
 "nbformat_minor": 0
}
