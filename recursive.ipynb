{
 "cells": [
  {
   "cell_type": "markdown",
   "metadata": {},
   "source": [
    "# 1. 再帰"
   ]
  },
  {
   "cell_type": "markdown",
   "metadata": {},
   "source": [
    "### 1.1 再帰の基本"
   ]
  },
  {
   "cell_type": "code",
   "execution_count": 38,
   "metadata": {
    "collapsed": false
   },
   "outputs": [],
   "source": [
    "def count_down(i):\n",
    "    print i\n",
    "    # 基本ケースでループ停止\n",
    "    if i <= 0:\n",
    "        return\n",
    "     # 再帰ケースで再帰＝自分自身を読み込む\n",
    "    else:\n",
    "        count_down(i-1)"
   ]
  },
  {
   "cell_type": "code",
   "execution_count": 39,
   "metadata": {
    "collapsed": false
   },
   "outputs": [
    {
     "name": "stdout",
     "output_type": "stream",
     "text": [
      "5\n",
      "4\n",
      "3\n",
      "2\n",
      "1\n",
      "0\n"
     ]
    }
   ],
   "source": [
    "count_down(5)"
   ]
  },
  {
   "cell_type": "markdown",
   "metadata": {},
   "source": [
    "### 1.2 入力値を-1しながら掛け算をする関数"
   ]
  },
  {
   "cell_type": "code",
   "execution_count": 33,
   "metadata": {
    "collapsed": true
   },
   "outputs": [],
   "source": [
    "def fact1(n, a = 1):\n",
    "    if n == 0: \n",
    "        return a\n",
    "    return fact1(n - 1, n * a)"
   ]
  },
  {
   "cell_type": "code",
   "execution_count": 35,
   "metadata": {
    "collapsed": false
   },
   "outputs": [
    {
     "data": {
      "text/plain": [
       "3628800"
      ]
     },
     "execution_count": 35,
     "metadata": {},
     "output_type": "execute_result"
    }
   ],
   "source": [
    "fact1(10)"
   ]
  },
  {
   "cell_type": "markdown",
   "metadata": {},
   "source": [
    "### 1.3 省略版"
   ]
  },
  {
   "cell_type": "code",
   "execution_count": 40,
   "metadata": {
    "collapsed": false
   },
   "outputs": [
    {
     "name": "stdout",
     "output_type": "stream",
     "text": [
      "5\n",
      "4\n",
      "3\n",
      "2\n",
      "1\n",
      "0\n"
     ]
    }
   ],
   "source": [
    "def countdown(i):\n",
    "    print i\n",
    "    if i <= 0:return\n",
    "    return countdown(i-1)\n",
    "countdown(5)"
   ]
  },
  {
   "cell_type": "markdown",
   "metadata": {},
   "source": [
    "### 1.4 再帰でのコールスタック"
   ]
  },
  {
   "cell_type": "code",
   "execution_count": null,
   "metadata": {
    "collapsed": true
   },
   "outputs": [],
   "source": [
    "コールスタック：複数の関数の変数を保存するスタック\n",
    "・プログラマにとってコードが容易である。\n",
    "・全ての変数をメモリに保存するため、メモリが肥大化する可能性がある。\n",
    "・その際はループ処理で対応する。"
   ]
  },
  {
   "cell_type": "code",
   "execution_count": 44,
   "metadata": {
    "collapsed": true
   },
   "outputs": [],
   "source": [
    "def fact2(x):\n",
    "    #print x\n",
    "    if x == 1:return 1\n",
    "    return x * fact2(x-1)"
   ]
  },
  {
   "cell_type": "code",
   "execution_count": 46,
   "metadata": {
    "collapsed": false
   },
   "outputs": [
    {
     "data": {
      "text/plain": [
       "3628800"
      ]
     },
     "execution_count": 46,
     "metadata": {},
     "output_type": "execute_result"
    }
   ],
   "source": [
    "fact2(10)"
   ]
  },
  {
   "cell_type": "markdown",
   "metadata": {},
   "source": [
    "### 1.5リスト内の値を合計する関数"
   ]
  },
  {
   "cell_type": "code",
   "execution_count": 50,
   "metadata": {
    "collapsed": true
   },
   "outputs": [],
   "source": [
    "def sum(x):\n",
    "    #print x\n",
    "    if x == []: return 0\n",
    "    return x[0] + sum(x[1:])"
   ]
  },
  {
   "cell_type": "code",
   "execution_count": 53,
   "metadata": {
    "collapsed": false
   },
   "outputs": [
    {
     "data": {
      "text/plain": [
       "10"
      ]
     },
     "execution_count": 53,
     "metadata": {},
     "output_type": "execute_result"
    }
   ],
   "source": [
    "x = [5,2,3]\n",
    "sum(x)"
   ]
  },
  {
   "cell_type": "markdown",
   "metadata": {},
   "source": [
    "###  リストの値をカウントする関数"
   ]
  },
  {
   "cell_type": "code",
   "execution_count": 90,
   "metadata": {
    "collapsed": true
   },
   "outputs": [],
   "source": [
    "def list_count(x):\n",
    "    print x\n",
    "    if x == []: \n",
    "        return 0\n",
    "    return 1 + list_count(x[1:])"
   ]
  },
  {
   "cell_type": "code",
   "execution_count": 91,
   "metadata": {
    "collapsed": false
   },
   "outputs": [
    {
     "name": "stdout",
     "output_type": "stream",
     "text": [
      "[5, 2, 3]\n",
      "[2, 3]\n",
      "[3]\n",
      "[]\n"
     ]
    },
    {
     "data": {
      "text/plain": [
       "3"
      ]
     },
     "execution_count": 91,
     "metadata": {},
     "output_type": "execute_result"
    }
   ],
   "source": [
    "x = [5,2,3]\n",
    "list_count(x)"
   ]
  },
  {
   "cell_type": "code",
   "execution_count": 94,
   "metadata": {
    "collapsed": false
   },
   "outputs": [
    {
     "data": {
      "text/plain": [
       "3"
      ]
     },
     "execution_count": 94,
     "metadata": {},
     "output_type": "execute_result"
    }
   ],
   "source": [
    "len(x)"
   ]
  },
  {
   "cell_type": "markdown",
   "metadata": {},
   "source": [
    "# 2. whileループを使った処理"
   ]
  },
  {
   "cell_type": "code",
   "execution_count": 13,
   "metadata": {
    "collapsed": true
   },
   "outputs": [],
   "source": [
    "def multiplication(x):\n",
    "    total = 1\n",
    "    while x >=1:\n",
    "        total *=  x\n",
    "        x -= 1\n",
    "    return total"
   ]
  },
  {
   "cell_type": "code",
   "execution_count": 54,
   "metadata": {
    "collapsed": false
   },
   "outputs": [
    {
     "data": {
      "text/plain": [
       "3628800"
      ]
     },
     "execution_count": 54,
     "metadata": {},
     "output_type": "execute_result"
    }
   ],
   "source": [
    "multiplication(10)"
   ]
  },
  {
   "cell_type": "markdown",
   "metadata": {},
   "source": [
    "# 3. ループと再帰でのパフォーマンス比較"
   ]
  },
  {
   "cell_type": "markdown",
   "metadata": {},
   "source": [
    "### 3-1. timeコマンドの見方"
   ]
  },
  {
   "cell_type": "code",
   "execution_count": 25,
   "metadata": {
    "collapsed": false
   },
   "outputs": [
    {
     "name": "stdout",
     "output_type": "stream",
     "text": [
      "Hello Hello\r\n",
      "Hello Hello\r\n",
      "Hello Hello\r\n",
      "\r\n",
      "real\t0m0.063s\r\n",
      "user\t0m0.021s\r\n",
      "sys\t0m0.023s\r\n"
     ]
    }
   ],
   "source": [
    "import os\n",
    "!time python hello.py"
   ]
  },
  {
   "cell_type": "code",
   "execution_count": null,
   "metadata": {
    "collapsed": true
   },
   "outputs": [],
   "source": [
    "real 実際にかかった時間\n",
    "user カーネルの外の処理でかかった時間\n",
    "sys カーネル内の特定の処理でかかった時間\n",
    "\n",
    "・sysとuserの時間を足し合わせれば、自分のプログラムがどのくらいのCPUサイクルを使ったのかが読み取れる\n",
    "・sysとuserの合計がrealよりもかなり少ない場合、プログラムのパフォーマンスの問題は、IO待ちにある可能性が高い\n",
    "\n",
    "【参考】\n",
    "https://yakst.com/ja/posts/42\n",
    "https://stackoverflow.com/questions/556405/what-do-real-user-and-sys-mean-in-the-output-of-time1"
   ]
  },
  {
   "cell_type": "markdown",
   "metadata": {},
   "source": [
    "### 3-2. memory プロファイル"
   ]
  },
  {
   "cell_type": "code",
   "execution_count": 27,
   "metadata": {
    "collapsed": false
   },
   "outputs": [
    {
     "name": "stdout",
     "output_type": "stream",
     "text": [
      "265252859812191058636308480000000\r\n",
      "Filename: loop_kakezan.py\r\n",
      "\r\n",
      "Line #    Mem usage    Increment   Line Contents\r\n",
      "================================================\r\n",
      "     4   11.047 MiB   11.047 MiB   @profile\r\n",
      "     5                             \r\n",
      "     6                             def multiplication(x):\r\n",
      "     7   11.059 MiB    0.012 MiB       total = 1\r\n",
      "     8   11.059 MiB    0.000 MiB       while x >=1:\r\n",
      "     9   11.059 MiB    0.000 MiB           total *=  x\r\n",
      "    10   11.059 MiB    0.000 MiB           x -= 1\r\n",
      "    11   11.059 MiB    0.000 MiB       return total\r\n",
      "\r\n",
      "\r\n"
     ]
    }
   ],
   "source": [
    "!python -m memory_profiler kakezan_loop.py"
   ]
  },
  {
   "cell_type": "markdown",
   "metadata": {},
   "source": [
    "### 3-3. Memory比較"
   ]
  },
  {
   "cell_type": "code",
   "execution_count": 63,
   "metadata": {
    "collapsed": false
   },
   "outputs": [
    {
     "name": "stdout",
     "output_type": "stream",
     "text": [
      "265252859812191058636308480000000\r\n",
      "Filename: kakezan_loop.py\r\n",
      "\r\n",
      "Line #    Mem usage    Increment   Line Contents\r\n",
      "================================================\r\n",
      "     4   11.223 MiB   11.223 MiB   @profile\r\n",
      "     5                             \r\n",
      "     6                             def multiplication(x):\r\n",
      "     7   11.234 MiB    0.012 MiB       total = 1\r\n",
      "     8   11.234 MiB    0.000 MiB       while x >=1:\r\n",
      "     9   11.234 MiB    0.000 MiB           total *=  x\r\n",
      "    10   11.234 MiB    0.000 MiB           x -= 1\r\n",
      "    11   11.234 MiB    0.000 MiB       return total\r\n",
      "\r\n",
      "\r\n"
     ]
    }
   ],
   "source": [
    "!python -m memory_profiler kakezan_loop.py"
   ]
  },
  {
   "cell_type": "code",
   "execution_count": 65,
   "metadata": {
    "collapsed": false
   },
   "outputs": [
    {
     "name": "stdout",
     "output_type": "stream",
     "text": [
      "Filename: kakezan_saiki.py\r\n",
      "\r\n",
      "Line #    Mem usage    Increment   Line Contents\r\n",
      "================================================\r\n",
      "     4   11.266 MiB   11.258 MiB   @profile\r\n",
      "     5                             def fact2(x):\r\n",
      "     6                                 #print x\r\n",
      "     7   11.266 MiB    0.008 MiB       if x == 1:return 1\r\n",
      "     8   11.266 MiB    0.000 MiB       return x * fact2(x-1)\r\n",
      "\r\n",
      "\r\n"
     ]
    }
   ],
   "source": [
    "!python -m memory_profiler kakezan_saiki.py"
   ]
  },
  {
   "cell_type": "markdown",
   "metadata": {},
   "source": [
    "### 3-5. Time比較"
   ]
  },
  {
   "cell_type": "code",
   "execution_count": 64,
   "metadata": {
    "collapsed": false
   },
   "outputs": [
    {
     "name": "stdout",
     "output_type": "stream",
     "text": [
      "Traceback (most recent call last):\r\n",
      "  File \"kakezan_loop.py\", line 4, in <module>\r\n",
      "    @profile\r\n",
      "NameError: name 'profile' is not defined\r\n",
      "\r\n",
      "real\t0m0.076s\r\n",
      "user\t0m0.026s\r\n",
      "sys\t0m0.024s\r\n"
     ]
    }
   ],
   "source": [
    "!time python kakezan_loop.py"
   ]
  },
  {
   "cell_type": "code",
   "execution_count": 66,
   "metadata": {
    "collapsed": false
   },
   "outputs": [
    {
     "name": "stdout",
     "output_type": "stream",
     "text": [
      "Traceback (most recent call last):\r\n",
      "  File \"kakezan_saiki.py\", line 4, in <module>\r\n",
      "    @profile\r\n",
      "NameError: name 'profile' is not defined\r\n",
      "\r\n",
      "real\t0m0.037s\r\n",
      "user\t0m0.019s\r\n",
      "sys\t0m0.015s\r\n"
     ]
    }
   ],
   "source": [
    "!time python kakezan_saiki.py"
   ]
  },
  {
   "cell_type": "code",
   "execution_count": null,
   "metadata": {
    "collapsed": true
   },
   "outputs": [],
   "source": []
  },
  {
   "cell_type": "code",
   "execution_count": null,
   "metadata": {
    "collapsed": true
   },
   "outputs": [],
   "source": []
  },
  {
   "cell_type": "code",
   "execution_count": null,
   "metadata": {
    "collapsed": true
   },
   "outputs": [],
   "source": []
  },
  {
   "cell_type": "code",
   "execution_count": null,
   "metadata": {
    "collapsed": true
   },
   "outputs": [],
   "source": []
  }
 ],
 "metadata": {
  "anaconda-cloud": {},
  "kernelspec": {
   "display_name": "Python [py27env]",
   "language": "python",
   "name": "Python [py27env]"
  },
  "language_info": {
   "codemirror_mode": {
    "name": "ipython",
    "version": 2
   },
   "file_extension": ".py",
   "mimetype": "text/x-python",
   "name": "python",
   "nbconvert_exporter": "python",
   "pygments_lexer": "ipython2",
   "version": "2.7.13"
  }
 },
 "nbformat": 4,
 "nbformat_minor": 0
}
