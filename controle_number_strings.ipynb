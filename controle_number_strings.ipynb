{
 "cells": [
  {
   "cell_type": "code",
   "execution_count": 61,
   "metadata": {
    "collapsed": true
   },
   "outputs": [],
   "source": [
    "def addNumber(x,y,z):\n",
    "    return x+y+z"
   ]
  },
  {
   "cell_type": "code",
   "execution_count": 63,
   "metadata": {
    "collapsed": false
   },
   "outputs": [
    {
     "name": "stdout",
     "output_type": "stream",
     "text": [
      "Please Input the number10\n",
      "Please Input the number20 30\n",
      "llllllllllllllllllllllllllllllllllllllllllllllllllllllllllllllllllllllllllllllllllllllllllllllllllllllllllllllllllllllll\n",
      "llllllllll\n",
      "60 llllllllll\n"
     ]
    }
   ],
   "source": [
    "while True:\n",
    "    a = int(raw_input(\"Please Input the number\"))\n",
    "    if 1 <= a and a <= 1000:\n",
    "        break\n",
    "        \n",
    "while True:\n",
    "    b, c = map(int, raw_input(\"Please Input the number\").split())\n",
    "    if 1 <= b and b <= 1000 and 1 <= c and c <= 100 :\n",
    "        break\n",
    "\n",
    "answer =addNumber(a, b, c)\n",
    "while True:\n",
    "    s= str(raw_input())\n",
    "    if 1 <=  len(s) and len(s) <= 100:\n",
    "        break\n",
    "\n",
    "print answer, s"
   ]
  },
  {
   "cell_type": "code",
   "execution_count": null,
   "metadata": {
    "collapsed": true
   },
   "outputs": [],
   "source": []
  }
 ],
 "metadata": {
  "kernelspec": {
   "display_name": "Python [py27env]",
   "language": "python",
   "name": "Python [py27env]"
  },
  "language_info": {
   "codemirror_mode": {
    "name": "ipython",
    "version": 2
   },
   "file_extension": ".py",
   "mimetype": "text/x-python",
   "name": "python",
   "nbconvert_exporter": "python",
   "pygments_lexer": "ipython2",
   "version": "2.7.13"
  }
 },
 "nbformat": 4,
 "nbformat_minor": 0
}
