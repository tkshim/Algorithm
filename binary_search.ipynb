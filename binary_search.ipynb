{
 "cells": [
  {
   "cell_type": "code",
   "execution_count": 1,
   "metadata": {
    "collapsed": true
   },
   "outputs": [],
   "source": [
    "import numpy as np\n",
    "def checkMaxCount(x):\n",
    "    return int(np.log2(x))+1"
   ]
  },
  {
   "cell_type": "code",
   "execution_count": 2,
   "metadata": {
    "collapsed": false
   },
   "outputs": [
    {
     "data": {
      "text/plain": [
       "5"
      ]
     },
     "execution_count": 2,
     "metadata": {},
     "output_type": "execute_result"
    }
   ],
   "source": [
    "checkMaxCount(20)"
   ]
  },
  {
   "cell_type": "code",
   "execution_count": 3,
   "metadata": {
    "collapsed": false
   },
   "outputs": [],
   "source": [
    "def bsearch(list, answer):\n",
    "    low = 0\n",
    "    high = len(list)-1\n",
    "    count = 1\n",
    "    while low <= high:\n",
    "        mid = (high+low)/2\n",
    "        print 'Mid posiiton is : ', mid\n",
    "        predict = list[mid]\n",
    "        print 'Predicted value is : ', predict\n",
    "        print\n",
    "        if predict == answer:\n",
    "            print 'The answer value is : ', list[mid]\n",
    "            print 'The number of count is : ', count\n",
    "            return list[mid]\n",
    "        if predict > answer:\n",
    "            print 'This predicted value is high.'\n",
    "            print\n",
    "            high = mid -1\n",
    "            count +=1\n",
    "        else:\n",
    "            print 'This predicted value is low.'\n",
    "            print\n",
    "            low = mid +1\n",
    "            count +=1\n",
    "    return None"
   ]
  },
  {
   "cell_type": "code",
   "execution_count": 4,
   "metadata": {
    "collapsed": false
   },
   "outputs": [
    {
     "name": "stdout",
     "output_type": "stream",
     "text": [
      "Mid posiiton is :  9\n",
      "Predicted value is :  10\n",
      "\n",
      "This predicted value is high.\n",
      "\n",
      "Mid posiiton is :  4\n",
      "Predicted value is :  5\n",
      "\n",
      "This predicted value is high.\n",
      "\n",
      "Mid posiiton is :  1\n",
      "Predicted value is :  2\n",
      "\n",
      "This predicted value is low.\n",
      "\n",
      "Mid posiiton is :  2\n",
      "Predicted value is :  3\n",
      "\n",
      "This predicted value is low.\n",
      "\n",
      "Mid posiiton is :  3\n",
      "Predicted value is :  4\n",
      "\n",
      "The answer value is :  4\n",
      "The number of count is :  5\n"
     ]
    },
    {
     "data": {
      "text/plain": [
       "4"
      ]
     },
     "execution_count": 4,
     "metadata": {},
     "output_type": "execute_result"
    }
   ],
   "source": [
    "listA = [1,2,3,4,5,6,7,8,9,10,11,12,13,14,15,16,17,18,19,20]\n",
    "bsearch(listA,4)"
   ]
  },
  {
   "cell_type": "code",
   "execution_count": 5,
   "metadata": {
    "collapsed": true
   },
   "outputs": [],
   "source": [
    "# Reference\n",
    "# https://github.com/egonSchiele/grokking_algorithms"
   ]
  }
 ],
 "metadata": {
  "anaconda-cloud": {},
  "kernelspec": {
   "display_name": "Python [py27env]",
   "language": "python",
   "name": "Python [py27env]"
  },
  "language_info": {
   "codemirror_mode": {
    "name": "ipython",
    "version": 2
   },
   "file_extension": ".py",
   "mimetype": "text/x-python",
   "name": "python",
   "nbconvert_exporter": "python",
   "pygments_lexer": "ipython2",
   "version": "2.7.13"
  }
 },
 "nbformat": 4,
 "nbformat_minor": 0
}
